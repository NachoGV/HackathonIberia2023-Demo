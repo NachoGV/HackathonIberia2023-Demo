{
 "cells": [
  {
   "cell_type": "code",
   "execution_count": 1,
   "metadata": {},
   "outputs": [],
   "source": [
    "import ipywidgets as widgets\n",
    "from IPython.display import IFrame"
   ]
  },
  {
   "attachments": {},
   "cell_type": "markdown",
   "metadata": {},
   "source": [
    "# Mapa Distribución Tipo de Energía en España"
   ]
  },
  {
   "cell_type": "code",
   "execution_count": 2,
   "metadata": {},
   "outputs": [],
   "source": [
    "# Mapas\n",
    "mapa_b1 = \"Data/Mapas/mapa_b1.html\"\n",
    "mapa_b2 = \"Data/Mapas/mapa_b2.html\"\n",
    "mapa_clusters_1 = \"Data/Mapas/mapa_clusters_1.html\"\n",
    "mapa_clusters_2 = \"Data/Mapas/mapa_clusters_2.html\""
   ]
  },
  {
   "cell_type": "code",
   "execution_count": 3,
   "metadata": {},
   "outputs": [],
   "source": [
    "# Boton 1\n",
    "toggle_button = widgets.ToggleButtons(\n",
    "    options=['Solar', 'Eólica'],\n",
    "    description='Tipo de Energía Renovable',\n",
    "    tooltips=['Energía producida mediante placas solares', \n",
    "              'Energía producida con molinos'],\n",
    ")\n",
    "\n",
    "# Cuadro de salida del boton 1\n",
    "output = widgets.Output()\n",
    "with output:\n",
    "    display(IFrame(src=mapa_b1, width=\"100%\", height=\"500\"))\n",
    "\n",
    "# Funcion del boton 1\n",
    "def on_toggle_button(change):\n",
    "    with output:\n",
    "        output.clear_output()\n",
    "        if change['new'] == 'Solar':\n",
    "            display(IFrame(src=mapa_b1, width=\"100%\", height=\"500\"))\n",
    "        elif change['new'] == 'Eólica':\n",
    "            display(IFrame(src=mapa_b2, width=\"100%\", height=\"500\"))\n",
    "\n",
    "# Ligar funcion con boton 1\n",
    "toggle_button.observe(on_toggle_button, 'value')"
   ]
  },
  {
   "cell_type": "code",
   "execution_count": 4,
   "metadata": {},
   "outputs": [],
   "source": [
    "# Boton 2\n",
    "toggle_button_2 = widgets.ToggleButtons(\n",
    "    options=['Por Municipios', 'Por Habitantes'],\n",
    "    description='Clusters'\n",
    ")\n",
    "\n",
    "# Cuadro de salida del boton 2\n",
    "output_2 = widgets.Output()\n",
    "with output_2:\n",
    "    display(IFrame(src=mapa_clusters_1, width=\"100%\", height=\"500\"))\n",
    "\n",
    "# Funcion del boton 2\n",
    "def on_toggle_button_2(change):\n",
    "    with output_2:\n",
    "        output_2.clear_output()\n",
    "        if change['new'] == 'Por Municipios':\n",
    "            display(IFrame(src=mapa_clusters_1, width=\"100%\", height=\"500\"))\n",
    "        elif change['new'] == 'Por Habitantes':\n",
    "            display(IFrame(src=mapa_clusters_2, width=\"100%\", height=\"500\"))\n",
    "\n",
    "# Ligar funcion con boton 2\n",
    "toggle_button_2.observe(on_toggle_button_2, 'value')"
   ]
  },
  {
   "cell_type": "code",
   "execution_count": 5,
   "metadata": {},
   "outputs": [
    {
     "data": {
      "application/vnd.jupyter.widget-view+json": {
       "model_id": "b9edc4cda3e04d6984f260b19dd7c137",
       "version_major": 2,
       "version_minor": 0
      },
      "text/plain": [
       "HBox(children=(VBox(children=(ToggleButtons(description='Tipo de Energía Renovable', options=('Solar', 'Eólica…"
      ]
     },
     "metadata": {},
     "output_type": "display_data"
    }
   ],
   "source": [
    "# Contenido de las columnas\n",
    "left_box = widgets.VBox([toggle_button, output])\n",
    "right_box = widgets.VBox([toggle_button_2, output_2])\n",
    "\n",
    "# Características de las columnas\n",
    "left_size = widgets.Layout(flex='1 1 50%')\n",
    "right_size = widgets.Layout(flex='1 1 50%')\n",
    "\n",
    "# Set the layout for each column\n",
    "left_box.layout = left_size\n",
    "right_box.layout = right_size\n",
    "\n",
    "# Combine the columns into a single layout\n",
    "layout = widgets.HBox([left_box, right_box])\n",
    "\n",
    "display(layout)"
   ]
  }
 ],
 "metadata": {
  "kernelspec": {
   "display_name": ".venv",
   "language": "python",
   "name": "python3"
  },
  "language_info": {
   "codemirror_mode": {
    "name": "ipython",
    "version": 3
   },
   "file_extension": ".py",
   "mimetype": "text/x-python",
   "name": "python",
   "nbconvert_exporter": "python",
   "pygments_lexer": "ipython3",
   "version": "3.10.11"
  },
  "orig_nbformat": 4
 },
 "nbformat": 4,
 "nbformat_minor": 2
}
