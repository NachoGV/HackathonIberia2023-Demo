{
 "cells": [
  {
   "attachments": {},
   "cell_type": "markdown",
   "id": "6335ad2d",
   "metadata": {
    "papermill": {
     "duration": 0.00728,
     "end_time": "2023-05-03T22:44:43.574830",
     "exception": false,
     "start_time": "2023-05-03T22:44:43.567550",
     "status": "completed"
    },
    "tags": []
   },
   "source": [
    "Importar librerías: \n",
    "* os: para la unión de varios archivos en un solo dataframe\n",
    "* pandas: para la creación y manipulación de dataframes\n",
    "* GeoPandas: para la generación y visualización de los mapas interactivos\n",
    "* libpysAL:para análisis geoespacial mediante clustering, servirá de apoyo en la generación de una matriz de pesos y adyacencias\n",
    "* spopt (parte de PySAL): para métodos de ML no supervisado de regionalización (clustering con restricción de proximidad espacial)\n",
    "* seaborn: para la representación mediante gráficas de los dataframes, en este caso en concreto se usará para la representación de un heatmap (mapa de calor)\n",
    "* sklearn: es una librería muy usada para modelos de machine learning, en este caso la usaremos para normalizar los datos mediante StandardScaler."
   ]
  },
  {
   "cell_type": "code",
   "execution_count": 10,
   "id": "ec6643e0",
   "metadata": {
    "_cell_guid": "b1076dfc-b9ad-4769-8c92-a6c4dae69d19",
    "_uuid": "8f2839f25d086af736a60e9eeb907d3b93b6e0e5",
    "execution": {
     "iopub.execute_input": "2023-05-03T22:44:43.591205Z",
     "iopub.status.busy": "2023-05-03T22:44:43.590621Z",
     "iopub.status.idle": "2023-05-03T22:44:49.347725Z",
     "shell.execute_reply": "2023-05-03T22:44:49.346600Z"
    },
    "papermill": {
     "duration": 5.768826,
     "end_time": "2023-05-03T22:44:49.350718",
     "exception": false,
     "start_time": "2023-05-03T22:44:43.581892",
     "status": "completed"
    },
    "tags": []
   },
   "outputs": [],
   "source": [
    "import warnings\n",
    "warnings.simplefilter(action='ignore', category=FutureWarning)\n",
    "warnings.simplefilter(action='ignore', category=UserWarning)\n",
    "\n",
    "import os\n",
    "import pandas as pd\n",
    "import geopandas as gpd\n",
    "import libpysal\n",
    "import spopt\n",
    "\n",
    "import seaborn as sns\n",
    "from sklearn.preprocessing import StandardScaler"
   ]
  },
  {
   "attachments": {},
   "cell_type": "markdown",
   "id": "5a384712",
   "metadata": {
    "papermill": {
     "duration": 0.006972,
     "end_time": "2023-05-03T22:44:49.365279",
     "exception": false,
     "start_time": "2023-05-03T22:44:49.358307",
     "status": "completed"
    },
    "tags": []
   },
   "source": [
    "Concatenar ficheros de datos de potencia (W) de energía eléctrica de cada provincia en un solo dataframe, generada a partir de fuentes de energía renovables, cogeneración y residuos. Los tipos de fuentes de energía están etiquetados según: https://www.boe.es/buscar/act.php?id=BOE-A-2014-6123. En el siguiente paso trataremos de limpiar el dataset con la información relevante"
   ]
  },
  {
   "cell_type": "code",
   "execution_count": 11,
   "id": "4f250ae6",
   "metadata": {
    "execution": {
     "iopub.execute_input": "2023-05-03T22:44:49.382886Z",
     "iopub.status.busy": "2023-05-03T22:44:49.380962Z",
     "iopub.status.idle": "2023-05-03T22:45:02.643978Z",
     "shell.execute_reply": "2023-05-03T22:45:02.642575Z"
    },
    "papermill": {
     "duration": 13.274625,
     "end_time": "2023-05-03T22:45:02.647137",
     "exception": false,
     "start_time": "2023-05-03T22:44:49.372512",
     "status": "completed"
    },
    "tags": []
   },
   "outputs": [],
   "source": [
    "# https://energia.serviciosmin.gob.es/Pretor/Vista/Informes/InformesInstalaciones.aspx\n",
    "basepath = 'Data/energia'\n",
    "d_energia_raw = pd.DataFrame()\n",
    "for entry in os.listdir(basepath):\n",
    "    file = os.path.join(basepath, entry)\n",
    "    if os.path.isfile(file):\n",
    "        file_pd = pd.read_html(file)[0]\n",
    "        d_energia_raw = pd.concat([d_energia_raw, file_pd], axis=0)"
   ]
  },
  {
   "attachments": {},
   "cell_type": "markdown",
   "id": "8ce0a377",
   "metadata": {
    "papermill": {
     "duration": 0.006829,
     "end_time": "2023-05-03T22:45:02.660810",
     "exception": false,
     "start_time": "2023-05-03T22:45:02.653981",
     "status": "completed"
    },
    "tags": []
   },
   "source": [
    "Limpieza de datos y agregación para obtener totales de potencia (W) por municipio, cada código viene representado por 1 tipo de generación de energía renovable, aqui se deja una breve descripción de lo que significa cada código, para más información, puede visitarse https://www.boe.es/buscar/act.php?id=BOE-A-2014-6123:\n",
    "\n",
    "* a.1-Cogeneración mediante gas natural, petróleo, etc\\\n",
    "* b.1-Energía solar\\\n",
    "* b.2-Energía eólica\\\n",
    "* b.3-Geotérmica, hidrotérmica, aerotérmica, la de las olas, la de las mareas, la de las rocas calientes y secas, la oceanotérmica y la energía de las corrientes marinas\\\n",
    "* b.4-Hidroeléctricas <10MW\\\n",
    "* b.5-Hidroeléctricas >10MW\\\n",
    "* b.6-Biomasa procedente de cultivos energéticos, de actividades agrícolas, ganaderas o de jardinerías\\\n",
    "* b.7-Biogas o bioliquidos\\\n",
    "* b.8-biomasa sector agrícola\\\n",
    "* c.1-Residuos domésticos y similares"
   ]
  },
  {
   "cell_type": "code",
   "execution_count": 12,
   "id": "a41fde73",
   "metadata": {
    "execution": {
     "iopub.execute_input": "2023-05-03T22:45:02.677673Z",
     "iopub.status.busy": "2023-05-03T22:45:02.676545Z",
     "iopub.status.idle": "2023-05-03T22:45:02.999100Z",
     "shell.execute_reply": "2023-05-03T22:45:02.997835Z"
    },
    "papermill": {
     "duration": 0.333651,
     "end_time": "2023-05-03T22:45:03.001775",
     "exception": false,
     "start_time": "2023-05-03T22:45:02.668124",
     "status": "completed"
    },
    "tags": []
   },
   "outputs": [
    {
     "data": {
      "text/html": [
       "<div>\n",
       "<style scoped>\n",
       "    .dataframe tbody tr th:only-of-type {\n",
       "        vertical-align: middle;\n",
       "    }\n",
       "\n",
       "    .dataframe tbody tr th {\n",
       "        vertical-align: top;\n",
       "    }\n",
       "\n",
       "    .dataframe thead th {\n",
       "        text-align: right;\n",
       "    }\n",
       "</style>\n",
       "<table border=\"1\" class=\"dataframe\">\n",
       "  <thead>\n",
       "    <tr style=\"text-align: right;\">\n",
       "      <th>Tipo</th>\n",
       "      <th>a.1</th>\n",
       "      <th>a.2</th>\n",
       "      <th>b.1</th>\n",
       "      <th>b.2</th>\n",
       "      <th>b.3</th>\n",
       "      <th>b.4</th>\n",
       "      <th>b.5</th>\n",
       "      <th>b.6</th>\n",
       "      <th>b.7</th>\n",
       "      <th>b.8</th>\n",
       "      <th>c.1</th>\n",
       "      <th>c.2</th>\n",
       "      <th>c.3</th>\n",
       "      <th>c.4</th>\n",
       "      <th>d.1</th>\n",
       "      <th>d.2</th>\n",
       "    </tr>\n",
       "    <tr>\n",
       "      <th>Municipio</th>\n",
       "      <th></th>\n",
       "      <th></th>\n",
       "      <th></th>\n",
       "      <th></th>\n",
       "      <th></th>\n",
       "      <th></th>\n",
       "      <th></th>\n",
       "      <th></th>\n",
       "      <th></th>\n",
       "      <th></th>\n",
       "      <th></th>\n",
       "      <th></th>\n",
       "      <th></th>\n",
       "      <th></th>\n",
       "      <th></th>\n",
       "      <th></th>\n",
       "    </tr>\n",
       "  </thead>\n",
       "  <tbody>\n",
       "    <tr>\n",
       "      <th>Abadiño</th>\n",
       "      <td>0.0</td>\n",
       "      <td>0.0</td>\n",
       "      <td>95000.0</td>\n",
       "      <td>0.0</td>\n",
       "      <td>0.0</td>\n",
       "      <td>0.0</td>\n",
       "      <td>0.0</td>\n",
       "      <td>0.0</td>\n",
       "      <td>0.0</td>\n",
       "      <td>0.0</td>\n",
       "      <td>0.0</td>\n",
       "      <td>0.0</td>\n",
       "      <td>0.0</td>\n",
       "      <td>0.0</td>\n",
       "      <td>0.0</td>\n",
       "      <td>0.0</td>\n",
       "    </tr>\n",
       "    <tr>\n",
       "      <th>Abadía</th>\n",
       "      <td>0.0</td>\n",
       "      <td>0.0</td>\n",
       "      <td>1155000.0</td>\n",
       "      <td>0.0</td>\n",
       "      <td>0.0</td>\n",
       "      <td>0.0</td>\n",
       "      <td>0.0</td>\n",
       "      <td>0.0</td>\n",
       "      <td>0.0</td>\n",
       "      <td>0.0</td>\n",
       "      <td>0.0</td>\n",
       "      <td>0.0</td>\n",
       "      <td>0.0</td>\n",
       "      <td>0.0</td>\n",
       "      <td>0.0</td>\n",
       "      <td>0.0</td>\n",
       "    </tr>\n",
       "    <tr>\n",
       "      <th>Abadín</th>\n",
       "      <td>0.0</td>\n",
       "      <td>0.0</td>\n",
       "      <td>42600.0</td>\n",
       "      <td>263510000.0</td>\n",
       "      <td>0.0</td>\n",
       "      <td>0.0</td>\n",
       "      <td>0.0</td>\n",
       "      <td>0.0</td>\n",
       "      <td>0.0</td>\n",
       "      <td>0.0</td>\n",
       "      <td>0.0</td>\n",
       "      <td>0.0</td>\n",
       "      <td>0.0</td>\n",
       "      <td>0.0</td>\n",
       "      <td>0.0</td>\n",
       "      <td>0.0</td>\n",
       "    </tr>\n",
       "    <tr>\n",
       "      <th>Abaltzisketa</th>\n",
       "      <td>0.0</td>\n",
       "      <td>0.0</td>\n",
       "      <td>7500.0</td>\n",
       "      <td>0.0</td>\n",
       "      <td>0.0</td>\n",
       "      <td>0.0</td>\n",
       "      <td>0.0</td>\n",
       "      <td>0.0</td>\n",
       "      <td>0.0</td>\n",
       "      <td>0.0</td>\n",
       "      <td>0.0</td>\n",
       "      <td>0.0</td>\n",
       "      <td>0.0</td>\n",
       "      <td>0.0</td>\n",
       "      <td>0.0</td>\n",
       "      <td>0.0</td>\n",
       "    </tr>\n",
       "    <tr>\n",
       "      <th>Abanilla</th>\n",
       "      <td>0.0</td>\n",
       "      <td>0.0</td>\n",
       "      <td>12612000.0</td>\n",
       "      <td>91440000.0</td>\n",
       "      <td>0.0</td>\n",
       "      <td>0.0</td>\n",
       "      <td>0.0</td>\n",
       "      <td>0.0</td>\n",
       "      <td>1064000.0</td>\n",
       "      <td>0.0</td>\n",
       "      <td>0.0</td>\n",
       "      <td>0.0</td>\n",
       "      <td>0.0</td>\n",
       "      <td>0.0</td>\n",
       "      <td>0.0</td>\n",
       "      <td>0.0</td>\n",
       "    </tr>\n",
       "  </tbody>\n",
       "</table>\n",
       "</div>"
      ],
      "text/plain": [
       "Tipo          a.1  a.2         b.1          b.2  b.3  b.4  b.5  b.6   \n",
       "Municipio                                                             \n",
       "Abadiño       0.0  0.0     95000.0          0.0  0.0  0.0  0.0  0.0  \\\n",
       "Abadía        0.0  0.0   1155000.0          0.0  0.0  0.0  0.0  0.0   \n",
       "Abadín        0.0  0.0     42600.0  263510000.0  0.0  0.0  0.0  0.0   \n",
       "Abaltzisketa  0.0  0.0      7500.0          0.0  0.0  0.0  0.0  0.0   \n",
       "Abanilla      0.0  0.0  12612000.0   91440000.0  0.0  0.0  0.0  0.0   \n",
       "\n",
       "Tipo                b.7  b.8  c.1  c.2  c.3  c.4  d.1  d.2  \n",
       "Municipio                                                   \n",
       "Abadiño             0.0  0.0  0.0  0.0  0.0  0.0  0.0  0.0  \n",
       "Abadía              0.0  0.0  0.0  0.0  0.0  0.0  0.0  0.0  \n",
       "Abadín              0.0  0.0  0.0  0.0  0.0  0.0  0.0  0.0  \n",
       "Abaltzisketa        0.0  0.0  0.0  0.0  0.0  0.0  0.0  0.0  \n",
       "Abanilla      1064000.0  0.0  0.0  0.0  0.0  0.0  0.0  0.0  "
      ]
     },
     "execution_count": 12,
     "metadata": {},
     "output_type": "execute_result"
    }
   ],
   "source": [
    "d_energia = d_energia_raw.iloc[1:, [2,6,7]] \n",
    "d_energia.columns = [\"Municipio\", \"Potencia\", \"Tipo\"]\n",
    "d_energia = d_energia[d_energia.Tipo != \"Almacenamiento\"]\n",
    "d_energia[\"Tipo\"] = d_energia[\"Tipo\"].str[0:3]\n",
    "d_energia[\"Potencia\"] = pd.to_numeric(\n",
    "                            d_energia[\"Potencia\"].str.replace('.', '').str.replace(',', '.'), \n",
    "                        errors=\"coerce\")\n",
    "d_energia = d_energia \\\n",
    "                .dropna() \\\n",
    "                .sort_values(by='Municipio') \\\n",
    "                .groupby([\"Municipio\", \"Tipo\"], as_index=False) \\\n",
    "                .agg({\"Potencia\": \"sum\"}) \\\n",
    "                .pivot(index=\"Municipio\", columns='Tipo', values='Potencia') \\\n",
    "                .fillna(0)\n",
    "d_energia.head()"
   ]
  },
  {
   "attachments": {},
   "cell_type": "markdown",
   "id": "16fd75c5",
   "metadata": {
    "papermill": {
     "duration": 0.006802,
     "end_time": "2023-05-03T22:45:03.015852",
     "exception": false,
     "start_time": "2023-05-03T22:45:03.009050",
     "status": "completed"
    },
    "tags": []
   },
   "source": [
    "Para generar los mapas interactivos de península, canarias y baleares se ha planteado representar cada uno de los municipios mediante polígonos, en el código situado inmediatamente abajo se ha importado dicha información de cada municipio, conservando nombre (NAMEUNIT) y una lista de los vértices mediante coordendas de cada polígono (geometry)"
   ]
  },
  {
   "cell_type": "code",
   "execution_count": 13,
   "id": "5030e491",
   "metadata": {
    "execution": {
     "iopub.execute_input": "2023-05-03T22:45:03.032916Z",
     "iopub.status.busy": "2023-05-03T22:45:03.032406Z",
     "iopub.status.idle": "2023-05-03T22:45:07.627535Z",
     "shell.execute_reply": "2023-05-03T22:45:07.625963Z"
    },
    "papermill": {
     "duration": 4.607482,
     "end_time": "2023-05-03T22:45:07.630574",
     "exception": false,
     "start_time": "2023-05-03T22:45:03.023092",
     "status": "completed"
    },
    "tags": []
   },
   "outputs": [
    {
     "data": {
      "text/html": [
       "<div>\n",
       "<style scoped>\n",
       "    .dataframe tbody tr th:only-of-type {\n",
       "        vertical-align: middle;\n",
       "    }\n",
       "\n",
       "    .dataframe tbody tr th {\n",
       "        vertical-align: top;\n",
       "    }\n",
       "\n",
       "    .dataframe thead th {\n",
       "        text-align: right;\n",
       "    }\n",
       "</style>\n",
       "<table border=\"1\" class=\"dataframe\">\n",
       "  <thead>\n",
       "    <tr style=\"text-align: right;\">\n",
       "      <th></th>\n",
       "      <th>geometry</th>\n",
       "    </tr>\n",
       "    <tr>\n",
       "      <th>Municipio</th>\n",
       "      <th></th>\n",
       "    </tr>\n",
       "  </thead>\n",
       "  <tbody>\n",
       "    <tr>\n",
       "      <th>A Arnoia</th>\n",
       "      <td>POLYGON ((-8.15983 42.24513, -8.15928 42.24542...</td>\n",
       "    </tr>\n",
       "    <tr>\n",
       "      <th>A Baña</th>\n",
       "      <td>POLYGON ((-8.83259 42.96346, -8.83205 42.96402...</td>\n",
       "    </tr>\n",
       "    <tr>\n",
       "      <th>A Bola</th>\n",
       "      <td>POLYGON ((-7.93304 42.11927, -7.93296 42.11967...</td>\n",
       "    </tr>\n",
       "    <tr>\n",
       "      <th>A Capela</th>\n",
       "      <td>POLYGON ((-8.10065 43.46198, -8.10019 43.46213...</td>\n",
       "    </tr>\n",
       "    <tr>\n",
       "      <th>A Cañiza</th>\n",
       "      <td>POLYGON ((-8.39289 42.16872, -8.39335 42.16931...</td>\n",
       "    </tr>\n",
       "  </tbody>\n",
       "</table>\n",
       "</div>"
      ],
      "text/plain": [
       "                                                    geometry\n",
       "Municipio                                                   \n",
       "A Arnoia   POLYGON ((-8.15983 42.24513, -8.15928 42.24542...\n",
       "A Baña     POLYGON ((-8.83259 42.96346, -8.83205 42.96402...\n",
       "A Bola     POLYGON ((-7.93304 42.11927, -7.93296 42.11967...\n",
       "A Capela   POLYGON ((-8.10065 43.46198, -8.10019 43.46213...\n",
       "A Cañiza   POLYGON ((-8.39289 42.16872, -8.39335 42.16931..."
      ]
     },
     "execution_count": 13,
     "metadata": {},
     "output_type": "execute_result"
    }
   ],
   "source": [
    "# http://centrodedescargas.cnig.es/CentroDescargas/index.jsp\n",
    "gd = pd.concat([\n",
    "    gpd.read_file(\"Data/poly_peninbal/poly_peninbal.shp\").to_crs(\"epsg:4326\"),\n",
    "    gpd.read_file(\"Data/poly_canarias/poly_canarias.shp\").to_crs(\"epsg:4326\")\n",
    "])\n",
    "gd = gd[[\"NAMEUNIT\", \"geometry\"]] \\\n",
    "        .rename(columns={\"NAMEUNIT\": \"Municipio\"}) \\\n",
    "        .sort_values(by='Municipio') \\\n",
    "        .drop_duplicates(subset=\"Municipio\", keep='first') \\\n",
    "        .set_index(\"Municipio\")\n",
    "gd.head()"
   ]
  },
  {
   "attachments": {},
   "cell_type": "markdown",
   "id": "7cbc2523",
   "metadata": {
    "papermill": {
     "duration": 0.007136,
     "end_time": "2023-05-03T22:45:07.645398",
     "exception": false,
     "start_time": "2023-05-03T22:45:07.638262",
     "status": "completed"
    },
    "tags": []
   },
   "source": [
    "Se genera un dataset con la unión de datos de potencia generada por tipo y municipio junto con los datos geográficos de dichos municipios"
   ]
  },
  {
   "cell_type": "code",
   "execution_count": 14,
   "id": "783523ee",
   "metadata": {
    "execution": {
     "iopub.execute_input": "2023-05-03T22:45:07.662495Z",
     "iopub.status.busy": "2023-05-03T22:45:07.662042Z",
     "iopub.status.idle": "2023-05-03T22:45:07.694431Z",
     "shell.execute_reply": "2023-05-03T22:45:07.693286Z"
    },
    "papermill": {
     "duration": 0.044405,
     "end_time": "2023-05-03T22:45:07.697322",
     "exception": false,
     "start_time": "2023-05-03T22:45:07.652917",
     "status": "completed"
    },
    "tags": []
   },
   "outputs": [],
   "source": [
    "d = gd.join(d_energia, how=\"left\").fillna(0)"
   ]
  },
  {
   "attachments": {},
   "cell_type": "markdown",
   "id": "71b6196e",
   "metadata": {
    "papermill": {
     "duration": 0.00715,
     "end_time": "2023-05-03T22:45:07.712410",
     "exception": false,
     "start_time": "2023-05-03T22:45:07.705260",
     "status": "completed"
    },
    "tags": []
   },
   "source": [
    "A modo de ejemplo vamos a visualizar el mapa coroplético (mapa coloreado por regiones) de la distribución de la potencia generada por fuentes de energía de tipo \"b.1\", correspondiente a: \n",
    "* Grupo b.1 Instalaciones que utilicen como energía primaria la energía solar.\n",
    "\n",
    "Para una representación eficiente del mapa interactivo se va a usar el agoritmo de Douglas-Peucker, mediante este algoritmo se reduce el número de vértices de cada polígono, suavizando de esta manera el polígono y por contra reduciendo el nivel de detalle del mapa en favor de una mayor rapidez de ejecución"
   ]
  },
  {
   "cell_type": "code",
   "execution_count": 15,
   "id": "72875ed7",
   "metadata": {
    "execution": {
     "iopub.execute_input": "2023-05-03T22:45:07.731497Z",
     "iopub.status.busy": "2023-05-03T22:45:07.730467Z",
     "iopub.status.idle": "2023-05-03T22:45:20.867414Z",
     "shell.execute_reply": "2023-05-03T22:45:20.863655Z"
    },
    "papermill": {
     "duration": 13.317661,
     "end_time": "2023-05-03T22:45:21.038355",
     "exception": false,
     "start_time": "2023-05-03T22:45:07.720694",
     "status": "completed"
    },
    "tags": []
   },
   "outputs": [],
   "source": [
    "# Douglas-Peucker Algorithm to simplify geometries\n",
    "d_plot = gpd.GeoDataFrame(d)\n",
    "d_plot.geometry = d_plot.geometry.simplify(0.005)\n",
    "d_plot.explore(column=\"b.1\", \n",
    "               cmap=\"BuPu\",\n",
    "               scheme='HeadTailBreaks',\n",
    "               tooltip=False,\n",
    "               popup=True,\n",
    "               style_kwds={\"weight\": 0.4}).save('Data/Mapas/mapa_b1.html')"
   ]
  },
  {
   "attachments": {},
   "cell_type": "markdown",
   "id": "1aca60e2",
   "metadata": {
    "papermill": {
     "duration": 0.14868,
     "end_time": "2023-05-03T22:45:21.333816",
     "exception": false,
     "start_time": "2023-05-03T22:45:21.185136",
     "status": "completed"
    },
    "tags": []
   },
   "source": [
    "Como segundo ejemplo, visualicemos el mapa coroplético de la distribución de la potencia generada por fuentes de energía de tipo \"b.2\", correspondiente a: \n",
    "* Grupo b.2 Instalaciones que únicamente utilicen como energía primaria la energía eólica\n",
    "\n",
    "De nuevo usando el algoritmo de Douglas-Peucker"
   ]
  },
  {
   "cell_type": "code",
   "execution_count": 16,
   "id": "61ed9e92",
   "metadata": {
    "execution": {
     "iopub.execute_input": "2023-05-03T22:45:21.641652Z",
     "iopub.status.busy": "2023-05-03T22:45:21.641202Z",
     "iopub.status.idle": "2023-05-03T22:45:26.685276Z",
     "shell.execute_reply": "2023-05-03T22:45:26.683186Z"
    },
    "papermill": {
     "duration": 5.364471,
     "end_time": "2023-05-03T22:45:26.850911",
     "exception": false,
     "start_time": "2023-05-03T22:45:21.486440",
     "status": "completed"
    },
    "tags": []
   },
   "outputs": [],
   "source": [
    "# Douglas-Peucker Algorithm to simplify geometries\n",
    "d_plot = gpd.GeoDataFrame(d)\n",
    "d_plot.geometry = d_plot.geometry.simplify(0.005)\n",
    "d_plot.explore(column=\"b.2\", \n",
    "               cmap=\"BuPu\",\n",
    "               scheme='HeadTailBreaks',\n",
    "               tooltip=False,\n",
    "               popup=True,\n",
    "               style_kwds={\"weight\": 0.4}).save(\"Data/Mapas/mapa_b2.html\")"
   ]
  },
  {
   "attachments": {},
   "cell_type": "markdown",
   "id": "3cb33cbf",
   "metadata": {
    "papermill": {
     "duration": 0.293919,
     "end_time": "2023-05-03T22:45:27.441811",
     "exception": false,
     "start_time": "2023-05-03T22:45:27.147892",
     "status": "completed"
    },
    "tags": []
   },
   "source": [
    "Para poder realizar el clustering (agrupación en conjuntos) de los municipios con características similares (en lo que a generación de energías renovables respecta) necesitaremos una restricción espacial, es decir, agruparemos por conjuntos con características similares, siempre y cuando dichos municipios compartan fronteras, en otras palabras, siempre y cuando sean contiguos entre sí.\n",
    "\n",
    "Para dicha restricción espacial, usaremos la matriz 'w', la cual indica la adyacencia entre los distintos municipios que comparten frontera (Rook neighbours)"
   ]
  },
  {
   "cell_type": "code",
   "execution_count": 17,
   "id": "c7232f95",
   "metadata": {
    "execution": {
     "iopub.execute_input": "2023-05-03T22:45:28.026915Z",
     "iopub.status.busy": "2023-05-03T22:45:28.026410Z",
     "iopub.status.idle": "2023-05-03T22:45:30.586210Z",
     "shell.execute_reply": "2023-05-03T22:45:30.584846Z"
    },
    "papermill": {
     "duration": 2.855912,
     "end_time": "2023-05-03T22:45:30.589932",
     "exception": false,
     "start_time": "2023-05-03T22:45:27.734020",
     "status": "completed"
    },
    "tags": []
   },
   "outputs": [],
   "source": [
    "# Rook neighbors are those states that share an edge on their respective borders\n",
    "# Queen neighbors are based on a more inclusive condition that requires only a shared vertex between two states\n",
    "w = libpysal.weights.Rook.from_dataframe(d)"
   ]
  },
  {
   "attachments": {},
   "cell_type": "markdown",
   "id": "7b147f93",
   "metadata": {
    "papermill": {
     "duration": 0.295449,
     "end_time": "2023-05-03T22:45:31.221771",
     "exception": false,
     "start_time": "2023-05-03T22:45:30.926322",
     "status": "completed"
    },
    "tags": []
   },
   "source": [
    "A continuación, procedemos a agrupar por conjuntos (clusters) los diferentes municipios. Para ello usaremos el algoritmo 'max-P regions' que nos generará la división de conjuntos teniendo en cuenta la matriz de adyacencia 'w' generada en el paso anterior, así como un threshold (umbral inferior) minimo de municipios por cluster.\n",
    "\n",
    "En resumen, generamos clusters con municipios con generación de energía eléctrica de fuentes renovables similares entre sí, que, a su vez, compartan frontera, con un mínimo de 80 municipios por cluster.\n",
    "\n",
    "El clustering es un algoritmo de aprendizaje automático (machine learning) muy usado para el aprendizaje no supervisado cuando tenemos un conjunto de datos sin etiquetar y del cual queramos sacar conclusiones"
   ]
  },
  {
   "cell_type": "code",
   "execution_count": 18,
   "id": "cec8a79f",
   "metadata": {
    "execution": {
     "iopub.execute_input": "2023-05-03T22:45:31.811869Z",
     "iopub.status.busy": "2023-05-03T22:45:31.810570Z",
     "iopub.status.idle": "2023-05-03T23:46:16.335776Z",
     "shell.execute_reply": "2023-05-03T23:46:16.334374Z"
    },
    "papermill": {
     "duration": 3645.118285,
     "end_time": "2023-05-03T23:46:16.634784",
     "exception": false,
     "start_time": "2023-05-03T22:45:31.516499",
     "status": "completed"
    },
    "tags": []
   },
   "outputs": [
    {
     "name": "stdout",
     "output_type": "stream",
     "text": [
      "max_p:  91\n",
      "number of good partitions: 1\n",
      "0\n",
      "totalWithinRegionDistance after SA: \n",
      "5808014553485.0\n",
      "totalWithinRegionDistance after SA: \n",
      "5809967335088.0\n",
      "totalWithinRegionDistance after SA: \n",
      "5788138463466.0\n",
      "totalWithinRegionDistance after SA: \n",
      "5801963808356.0\n",
      "totalWithinRegionDistance after SA: \n",
      "5785676345476.0\n",
      "totalWithinRegionDistance after SA: \n",
      "5807692399652.0\n",
      "totalWithinRegionDistance after SA: \n",
      "5771797934413.0\n",
      "totalWithinRegionDistance after SA: \n",
      "5807109012982.0\n",
      "totalWithinRegionDistance after SA: \n",
      "5775221838254.0\n",
      "totalWithinRegionDistance after SA: \n",
      "5833148416385.0\n",
      "best objective value:\n",
      "5771797934413.0\n"
     ]
    }
   ],
   "source": [
    "# Max-P Heuristic with a minimum number of towns per cluster\n",
    "d[\"Count\"] = 1\n",
    "attrs_name = list(d.columns)[1:-1]\n",
    "# https://pysal.org/spopt/generated/spopt.region.MaxPHeuristic.html#spopt.region.MaxPHeuristic\n",
    "model = spopt.region.MaxPHeuristic(d, w, attrs_name, \n",
    "                                   verbose=True,\n",
    "                                   # At least 80 towns per cluster\n",
    "                                   threshold=80, \n",
    "                                   threshold_name=\"Count\", \n",
    "                                   # Computational cost\n",
    "                                   max_iterations_sa=10,\n",
    "                                   max_iterations_construction=999,\n",
    "                                   top_n=10,\n",
    "                                   # Attach infeasible components using a single linkage between the area in the infeasible component with the smallest nearest neighbor distance to an area in a feasible component\n",
    "                                   policy=\"single\")\n",
    "model.solve()\n",
    "d['Cluster'] = model.labels_\n",
    "# Store df in an csv file\n",
    "d.to_csv(\"Data/Output/output.csv\", index=True)"
   ]
  },
  {
   "attachments": {},
   "cell_type": "markdown",
   "id": "9c0a7304",
   "metadata": {
    "papermill": {
     "duration": 0.299193,
     "end_time": "2023-05-03T23:46:17.235020",
     "exception": false,
     "start_time": "2023-05-03T23:46:16.935827",
     "status": "completed"
    },
    "tags": []
   },
   "source": [
    "Repetimos la representación mediante el mapa coroplético, esta vez mediante los clusters generados y no mediante las fuentes renovables para la generación de energía eléctrica como hicimos con anterioridad"
   ]
  },
  {
   "cell_type": "code",
   "execution_count": 19,
   "id": "585a7285",
   "metadata": {
    "execution": {
     "iopub.execute_input": "2023-05-03T23:46:17.816083Z",
     "iopub.status.busy": "2023-05-03T23:46:17.815510Z",
     "iopub.status.idle": "2023-05-03T23:46:23.104731Z",
     "shell.execute_reply": "2023-05-03T23:46:23.103245Z"
    },
    "papermill": {
     "duration": 5.761269,
     "end_time": "2023-05-03T23:46:23.286117",
     "exception": false,
     "start_time": "2023-05-03T23:46:17.524848",
     "status": "completed"
    },
    "tags": []
   },
   "outputs": [],
   "source": [
    "# Douglas-Peucker Algorithm to simplify geometries\n",
    "d_plot = gpd.GeoDataFrame(d)\n",
    "d_plot.geometry = d_plot.geometry.simplify(0.005)\n",
    "d_plot.explore(column=\"Cluster\", \n",
    "           cmap=\"Set1\",\n",
    "           tooltip=False,\n",
    "           popup=True,\n",
    "           legend=True,\n",
    "           style_kwds={\"weight\": 0.4}).save(\"Data/Mapas/mapa_clusters_1.html\")"
   ]
  },
  {
   "attachments": {},
   "cell_type": "markdown",
   "id": "486e06e2",
   "metadata": {
    "papermill": {
     "duration": 0.404998,
     "end_time": "2023-05-03T23:46:24.104710",
     "exception": false,
     "start_time": "2023-05-03T23:46:23.699712",
     "status": "completed"
    },
    "tags": []
   },
   "source": [
    "Mapa de calor que muestra los valores medios de cada variable (potencia de la fuente de producción de energía) en los municipios de cada cluster generado. Valores superiores a 0 están por encima de la media."
   ]
  },
  {
   "cell_type": "code",
   "execution_count": 20,
   "id": "4998d2d2",
   "metadata": {
    "execution": {
     "iopub.execute_input": "2023-05-03T23:46:24.900765Z",
     "iopub.status.busy": "2023-05-03T23:46:24.900335Z",
     "iopub.status.idle": "2023-05-03T23:46:25.897596Z",
     "shell.execute_reply": "2023-05-03T23:46:25.896372Z"
    },
    "papermill": {
     "duration": 1.398329,
     "end_time": "2023-05-03T23:46:25.900311",
     "exception": false,
     "start_time": "2023-05-03T23:46:24.501982",
     "status": "completed"
    },
    "tags": []
   },
   "outputs": [
    {
     "data": {
      "text/plain": [
       "<Axes: ylabel='Cluster'>"
      ]
     },
     "execution_count": 20,
     "metadata": {},
     "output_type": "execute_result"
    },
    {
     "data": {
      "image/png": "[encoded data removed]",
      "text/plain": [
       "<Figure size 800x1500 with 2 Axes>"
      ]
     },
     "metadata": {},
     "output_type": "display_data"
    }
   ],
   "source": [
    "aux = d.drop(columns=[\"geometry\",\"Count\",\"Cluster\"])\n",
    "d_scaled = pd.DataFrame(\n",
    "    StandardScaler().fit_transform(aux),\n",
    "    columns = aux.columns,\n",
    "    index = aux.index\n",
    ")\n",
    "d_scaled[\"Cluster\"] = d.Cluster\n",
    "sns.set(rc={'figure.figsize':(8,15)})\n",
    "sns.heatmap(d_scaled.groupby(\"Cluster\").mean(), cmap=\"RdYlGn\", center=0)"
   ]
  },
  {
   "attachments": {},
   "cell_type": "markdown",
   "id": "e098144c",
   "metadata": {
    "papermill": {
     "duration": 0.392626,
     "end_time": "2023-05-03T23:46:26.693697",
     "exception": false,
     "start_time": "2023-05-03T23:46:26.301071",
     "status": "completed"
    },
    "tags": []
   },
   "source": [
    "Anteriormente, para establecer el tamaño de cada agrupación (cluster) poníamos como threshold (umbral) el número de municipios. \n",
    "En este caso, vamos a realizar las agrupaciones estableción un mímo en función del número total de habitantes, y no del mínimo total de municipios.\n",
    "Para ello necesitaremos el número total de habitantes por municipio, el cual importaremos y uniremos al dataframe original\n"
   ]
  },
  {
   "cell_type": "code",
   "execution_count": 21,
   "id": "77fc9360",
   "metadata": {
    "execution": {
     "iopub.execute_input": "2023-05-03T23:46:27.495671Z",
     "iopub.status.busy": "2023-05-03T23:46:27.494648Z",
     "iopub.status.idle": "2023-05-03T23:46:33.641621Z",
     "shell.execute_reply": "2023-05-03T23:46:33.640095Z"
    },
    "papermill": {
     "duration": 6.556868,
     "end_time": "2023-05-03T23:46:33.644777",
     "exception": false,
     "start_time": "2023-05-03T23:46:27.087909",
     "status": "completed"
    },
    "tags": []
   },
   "outputs": [],
   "source": [
    "# https://www.ine.es/jaxiT3/files/t/es/csv_bdsc/30832.csv\n",
    "# d_poblacion = pd.read_csv(\"https://www.ine.es/jaxiT3/files/t/es/csv_bdsc/30832.csv\", sep=\";\", decimal=\",\")\n",
    "# d_poblacion.to_parquet(\"poblacion.parquet\")\n",
    "d_poblacion = pd.read_parquet(\"Data/poblacion/poblacion.parquet\")\n",
    "d_poblacion[\"Municipios\"] = d_poblacion[\"Municipios\"].str[6:]\n",
    "d_poblacion[\"Total\"] = pd.to_numeric(\n",
    "    d_poblacion[\"Total\"].str.replace('.', '').str.replace(',', '.'), \n",
    "    errors=\"coerce\")\n",
    "d_poblacion = d_poblacion[(d_poblacion.Periodo == 2020) &\n",
    "                          (d_poblacion[\"Indicadores demográficos\"] == \"Población\") &\n",
    "                          (d_poblacion.Distritos.isna()) &\n",
    "                          (d_poblacion.Secciones.isna())] \\\n",
    "            .drop([\"Distritos\", \"Secciones\", \"Indicadores demográficos\", \"Periodo\"], axis=1) \\\n",
    "            .dropna() \\\n",
    "            .rename(columns={\"Total\": \"Poblacion\",\n",
    "                             \"Municipios\": \"Municipio\"}) \\\n",
    "            .set_index(\"Municipio\")\n",
    "d_poblacion.head()\n",
    "d_energia = d_energia.join(d_poblacion, how=\"inner\")\n",
    "d = gd.join(d_energia, how=\"left\").fillna(0)"
   ]
  },
  {
   "attachments": {},
   "cell_type": "markdown",
   "id": "9fe5c13c",
   "metadata": {
    "papermill": {
     "duration": 0.41993,
     "end_time": "2023-05-03T23:46:34.503239",
     "exception": false,
     "start_time": "2023-05-03T23:46:34.083309",
     "status": "completed"
    },
    "tags": []
   },
   "source": [
    "Creación de la matriz de adyacencias 'w' que será usada para el algoritmo de clustering con el nuevo threshold"
   ]
  },
  {
   "cell_type": "code",
   "execution_count": 22,
   "id": "14b15308",
   "metadata": {
    "execution": {
     "iopub.execute_input": "2023-05-03T23:46:35.320154Z",
     "iopub.status.busy": "2023-05-03T23:46:35.319304Z",
     "iopub.status.idle": "2023-05-03T23:47:09.920034Z",
     "shell.execute_reply": "2023-05-03T23:47:09.917872Z"
    },
    "papermill": {
     "duration": 35.013545,
     "end_time": "2023-05-03T23:47:09.923723",
     "exception": false,
     "start_time": "2023-05-03T23:46:34.910178",
     "status": "completed"
    },
    "tags": []
   },
   "outputs": [],
   "source": [
    "# Rook neighbors are those states that share an edge on their respective borders\n",
    "# Queen neighbors are based on a more inclusive condition that requires only a shared vertex between two states\n",
    "w = libpysal.weights.Rook.from_dataframe(d.drop(columns=[\"Poblacion\"]))"
   ]
  },
  {
   "attachments": {},
   "cell_type": "markdown",
   "id": "e0fa3ebb",
   "metadata": {
    "papermill": {
     "duration": 0.416397,
     "end_time": "2023-05-03T23:47:10.769847",
     "exception": false,
     "start_time": "2023-05-03T23:47:10.353450",
     "status": "completed"
    },
    "tags": []
   },
   "source": [
    "Volvemos a ejecutar el mismo clustering mediante el algoritmo de max-P regions, pero modificando el umbral (threshold & threshold_name)"
   ]
  },
  {
   "cell_type": "code",
   "execution_count": 23,
   "id": "29f1a49a",
   "metadata": {
    "execution": {
     "iopub.execute_input": "2023-05-03T23:47:11.573809Z",
     "iopub.status.busy": "2023-05-03T23:47:11.573109Z",
     "iopub.status.idle": "2023-05-04T07:39:50.205770Z",
     "shell.execute_reply": "2023-05-04T07:39:50.204461Z"
    },
    "papermill": {
     "duration": 28359.447022,
     "end_time": "2023-05-04T07:39:50.619524",
     "exception": false,
     "start_time": "2023-05-03T23:47:11.172502",
     "status": "completed"
    },
    "tags": []
   },
   "outputs": [
    {
     "name": "stdout",
     "output_type": "stream",
     "text": [
      "max_p:  123\n",
      "number of good partitions: 1\n",
      "0\n"
     ]
    },
    {
     "name": "stderr",
     "output_type": "stream",
     "text": [
      "c:\\Users\\ignac\\OneDrive\\Documents\\Hackaton 2023\\PythonVoilaDemo\\.venv\\lib\\site-packages\\spopt\\region\\maxp.py:672: RuntimeWarning: overflow encountered in double_scalars\n",
      "  prob = np.exp(diff / t)\n"
     ]
    },
    {
     "name": "stdout",
     "output_type": "stream",
     "text": [
      "totalWithinRegionDistance after SA: \n",
      "5560046681953.0\n",
      "totalWithinRegionDistance after SA: \n",
      "5119416293089.0\n",
      "totalWithinRegionDistance after SA: \n",
      "5219147546940.0\n",
      "totalWithinRegionDistance after SA: \n",
      "5193505158963.0\n",
      "totalWithinRegionDistance after SA: \n",
      "5214892322352.0\n",
      "totalWithinRegionDistance after SA: \n",
      "5218599466982.0\n",
      "totalWithinRegionDistance after SA: \n",
      "5186081063303.0\n",
      "totalWithinRegionDistance after SA: \n",
      "5617176358188.0\n",
      "totalWithinRegionDistance after SA: \n",
      "5225923946995.0\n",
      "totalWithinRegionDistance after SA: \n",
      "5057759361286.0\n",
      "best objective value:\n",
      "5057759361286.0\n"
     ]
    }
   ],
   "source": [
    "# Max-P Heuristic with a minimum number population per cluster\n",
    "attrs_name = list(d.columns)[1:-1]\n",
    "# https://pysal.org/spopt/generated/spopt.region.MaxPHeuristic.html#spopt.region.MaxPHeuristic\n",
    "model = spopt.region.MaxPHeuristic(d, w, attrs_name, \n",
    "                                   verbose=True,\n",
    "                                   # At least 200,000 people per cluster\n",
    "                                   threshold=200000, \n",
    "                                   threshold_name=\"Poblacion\", \n",
    "                                   # Computational cost\n",
    "                                   max_iterations_sa=10,\n",
    "                                   max_iterations_construction=999,\n",
    "                                   top_n=10,\n",
    "                                   # Attach infeasible components using a single linkage between the area in the infeasible component with the smallest nearest neighbor distance to an area in a feasible component\n",
    "                                   policy=\"single\")\n",
    "model.solve()\n",
    "d['Cluster'] = model.labels_\n",
    "# Store df in an csv file\n",
    "d.to_csv(\"Data/Output/output2.csv\", index=True)"
   ]
  },
  {
   "attachments": {},
   "cell_type": "markdown",
   "id": "de6ed356",
   "metadata": {
    "papermill": {
     "duration": 0.407518,
     "end_time": "2023-05-04T07:39:51.421116",
     "exception": false,
     "start_time": "2023-05-04T07:39:51.013598",
     "status": "completed"
    },
    "tags": []
   },
   "source": [
    "Representamos de nuevo el mapa coroplético con los nuevos clusters creados en función del threshold de población"
   ]
  },
  {
   "cell_type": "code",
   "execution_count": 24,
   "id": "4c4c82f3",
   "metadata": {
    "execution": {
     "iopub.execute_input": "2023-05-04T07:39:52.230878Z",
     "iopub.status.busy": "2023-05-04T07:39:52.230242Z",
     "iopub.status.idle": "2023-05-04T07:40:03.473194Z",
     "shell.execute_reply": "2023-05-04T07:40:03.472020Z"
    },
    "papermill": {
     "duration": 11.81333,
     "end_time": "2023-05-04T07:40:03.640268",
     "exception": false,
     "start_time": "2023-05-04T07:39:51.826938",
     "status": "completed"
    },
    "tags": []
   },
   "outputs": [],
   "source": [
    "# Douglas-Peucker Algorithm to simplify geometries\n",
    "d_plot = gpd.GeoDataFrame(d)\n",
    "d_plot.geometry = d_plot.geometry.simplify(0.005)\n",
    "d_plot.explore(column=\"Cluster\", \n",
    "           cmap=\"Set1\",\n",
    "           tooltip=False,\n",
    "           popup=True,\n",
    "           legend=True,\n",
    "           style_kwds={\"weight\": 0.4}).save(\"Data/Mapas/mapa_clusters_2.html\")"
   ]
  },
  {
   "attachments": {},
   "cell_type": "markdown",
   "id": "cfcb62a5",
   "metadata": {
    "papermill": {
     "duration": 0.572669,
     "end_time": "2023-05-04T07:40:04.783380",
     "exception": false,
     "start_time": "2023-05-04T07:40:04.210711",
     "status": "completed"
    },
    "tags": []
   },
   "source": [
    "Mapa de calor con los valores medios de los nuevos clusters"
   ]
  },
  {
   "cell_type": "code",
   "execution_count": 25,
   "id": "f7e237f2",
   "metadata": {
    "execution": {
     "iopub.execute_input": "2023-05-04T07:40:06.020786Z",
     "iopub.status.busy": "2023-05-04T07:40:06.020336Z",
     "iopub.status.idle": "2023-05-04T07:40:06.954934Z",
     "shell.execute_reply": "2023-05-04T07:40:06.953779Z"
    },
    "papermill": {
     "duration": 1.555805,
     "end_time": "2023-05-04T07:40:06.957377",
     "exception": false,
     "start_time": "2023-05-04T07:40:05.401572",
     "status": "completed"
    },
    "tags": []
   },
   "outputs": [
    {
     "data": {
      "text/plain": [
       "<Axes: ylabel='Cluster'>"
      ]
     },
     "execution_count": 25,
     "metadata": {},
     "output_type": "execute_result"
    },
    {
     "data": {
      "image/png": "[encoded data removed]",
      "text/plain": [
       "<Figure size 800x1500 with 2 Axes>"
      ]
     },
     "metadata": {},
     "output_type": "display_data"
    }
   ],
   "source": [
    "aux = d.drop(columns=[\"geometry\",\"Poblacion\",\"Cluster\"])\n",
    "d_scaled = pd.DataFrame(\n",
    "    StandardScaler().fit_transform(aux),\n",
    "    columns = aux.columns,\n",
    "    index = aux.index\n",
    ")\n",
    "d_scaled[\"Cluster\"] = d.Cluster\n",
    "sns.set(rc={'figure.figsize':(8,15)})\n",
    "sns.heatmap(d_scaled.groupby(\"Cluster\").mean(), cmap=\"RdYlGn\", center=0)"
   ]
  }
 ],
 "metadata": {
  "kernelspec": {
   "display_name": "Python 3",
   "language": "python",
   "name": "python3"
  },
  "language_info": {
   "codemirror_mode": {
    "name": "ipython",
    "version": 3
   },
   "file_extension": ".py",
   "mimetype": "text/x-python",
   "name": "python",
   "nbconvert_exporter": "python",
   "pygments_lexer": "ipython3",
   "version": "3.10.11"
  },
  "papermill": {
   "default_parameters": {},
   "duration": 32138.851331,
   "end_time": "2023-05-04T07:40:10.476413",
   "environment_variables": {},
   "exception": null,
   "input_path": "__notebook__.ipynb",
   "output_path": "__notebook__.ipynb",
   "parameters": {},
   "start_time": "2023-05-03T22:44:31.625082",
   "version": "2.4.0"
  }
 },
 "nbformat": 4,
 "nbformat_minor": 5
}
